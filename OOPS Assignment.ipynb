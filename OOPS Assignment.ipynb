{
 "cells": [
  {
   "cell_type": "code",
   "execution_count": 34,
   "id": "97e4f95e",
   "metadata": {},
   "outputs": [
    {
     "name": "stdout",
     "output_type": "stream",
     "text": [
      "Enter the value:10\n",
      "Enter the power value:2\n",
      "The output is: 100\n"
     ]
    }
   ],
   "source": [
    "class pow:\n",
    "    def __init__(self):\n",
    "        self.x = int(input(\"Enter the value:\"))\n",
    "        self.n = int(input(\"Enter the power value:\"))\n",
    "       \n",
    "    \n",
    "    def power(self):\n",
    "         return self.x**self.n\n",
    "result = pow()\n",
    "\n",
    "print(\"The output is:\", result.power())"
   ]
  },
  {
   "cell_type": "code",
   "execution_count": null,
   "id": "cd7dcd82",
   "metadata": {},
   "outputs": [],
   "source": []
  },
  {
   "cell_type": "code",
   "execution_count": null,
   "id": "903f0c79",
   "metadata": {},
   "outputs": [],
   "source": []
  }
 ],
 "metadata": {
  "kernelspec": {
   "display_name": "Python 3 (ipykernel)",
   "language": "python",
   "name": "python3"
  },
  "language_info": {
   "codemirror_mode": {
    "name": "ipython",
    "version": 3
   },
   "file_extension": ".py",
   "mimetype": "text/x-python",
   "name": "python",
   "nbconvert_exporter": "python",
   "pygments_lexer": "ipython3",
   "version": "3.10.2"
  }
 },
 "nbformat": 4,
 "nbformat_minor": 5
}
